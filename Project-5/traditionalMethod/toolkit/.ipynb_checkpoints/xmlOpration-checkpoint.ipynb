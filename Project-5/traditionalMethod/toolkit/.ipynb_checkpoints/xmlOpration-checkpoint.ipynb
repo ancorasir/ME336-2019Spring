{
 "cells": [
  {
   "cell_type": "code",
   "execution_count": 7,
   "metadata": {},
   "outputs": [],
   "source": [
    "#!/usr/bin/python3\n",
    "import sys\n",
    "from xml.etree import ElementTree\n",
    "from xml.etree.ElementTree import Element, SubElement\n",
    "from lxml import etree\n",
    "import codecs"
   ]
  },
  {
   "cell_type": "code",
   "execution_count": 9,
   "metadata": {},
   "outputs": [],
   "source": [
    "XML_EXT = '.xml'\n",
    "ENCODE_METHOD = 'utf-8'\n",
    "class PascalVocReader:\n",
    "\n",
    "    def __init__(self, filepath):\n",
    "        # shapes type:\n",
    "        # [labbel, [(x1,y1), (x2,y2), (x3,y3), (x4,y4)], color, color, difficult]\n",
    "        self.shapes = []\n",
    "        self.filepath = filepath\n",
    "        self.verified = False\n",
    "        try:\n",
    "            self.parseXML()\n",
    "        except:\n",
    "            pass\n",
    "\n",
    "    def getShapes(self):\n",
    "        return self.shapes\n",
    "\n",
    "    def addShape(self, label, bndbox, difficult):\n",
    "        xmin = int(float(bndbox.find('xmin').text))\n",
    "        ymin = int(float(bndbox.find('ymin').text))\n",
    "        xmax = int(float(bndbox.find('xmax').text))\n",
    "        ymax = int(float(bndbox.find('ymax').text))\n",
    "        points = [(xmin, ymin), (xmax, ymin), (xmax, ymax), (xmin, ymax)]\n",
    "        self.shapes.append((label, points, None, None, difficult))\n",
    "\n",
    "    def parseXML(self):\n",
    "        assert self.filepath.endswith(XML_EXT), \"Unsupport file format\"\n",
    "        parser = etree.XMLParser(encoding=ENCODE_METHOD)\n",
    "        xmltree = ElementTree.parse(self.filepath, parser=parser).getroot()\n",
    "        filename = xmltree.find('filename').text\n",
    "        try:\n",
    "            verified = xmltree.attrib['verified']\n",
    "            if verified == 'yes':\n",
    "                self.verified = True\n",
    "        except KeyError:\n",
    "            self.verified = False\n",
    "\n",
    "        for object_iter in xmltree.findall('object'):\n",
    "            bndbox = object_iter.find(\"bndbox\")\n",
    "            label = object_iter.find('name').text\n",
    "            # Add chris\n",
    "            difficult = False\n",
    "            if object_iter.find('difficult') is not None:\n",
    "                difficult = bool(int(object_iter.find('difficult').text))\n",
    "            self.addShape(label, bndbox, difficult)\n",
    "        return True\n"
   ]
  },
  {
   "cell_type": "code",
   "execution_count": 15,
   "metadata": {},
   "outputs": [
    {
     "name": "stdout",
     "output_type": "stream",
     "text": [
      "('AT', [(693, 112), (759, 112), (759, 177), (693, 177)], None, None, False)\n",
      "AT\n",
      "759\n"
     ]
    }
   ],
   "source": [
    "# test\n",
    "filePath = '/home/bionicdl-saber/Documents/data/jigsaw/pascalvoc/Annotations/image_C_0001.xml'\n",
    "pvReader = PascalVocReader(filePath)\n",
    "pvReader.parseXML();\n",
    "ss = pvReader.getShapes()\n",
    "print(ss[0])\n",
    "print(ss[0][0])\n",
    "print(ss[0][1][1][0])"
   ]
  }
 ],
 "metadata": {
  "kernelspec": {
   "display_name": "Python 3",
   "language": "python",
   "name": "python3"
  },
  "language_info": {
   "codemirror_mode": {
    "name": "ipython",
    "version": 3
   },
   "file_extension": ".py",
   "mimetype": "text/x-python",
   "name": "python",
   "nbconvert_exporter": "python",
   "pygments_lexer": "ipython3",
   "version": "3.5.2"
  }
 },
 "nbformat": 4,
 "nbformat_minor": 2
}
